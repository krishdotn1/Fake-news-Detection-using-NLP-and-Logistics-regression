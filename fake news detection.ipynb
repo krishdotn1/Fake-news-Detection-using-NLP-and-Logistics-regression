{
 "cells": [
  {
   "cell_type": "code",
   "execution_count": 1,
   "id": "238df52e",
   "metadata": {},
   "outputs": [],
   "source": [
    "import numpy as np\n",
    "import pandas as pd\n",
    "import re\n",
    "from nltk.corpus import stopwords\n",
    "from nltk.stem.porter import PorterStemmer\n",
    "from sklearn.feature_extraction.text import TfidfVectorizer\n",
    "from sklearn.model_selection import train_test_split\n",
    "from sklearn.linear_model import LogisticRegression\n",
    "from sklearn.metrics import accuracy_score\n"
   ]
  },
  {
   "cell_type": "code",
   "execution_count": 2,
   "id": "18408319",
   "metadata": {},
   "outputs": [],
   "source": [
    "news_dataset = pd.read_csv('fake_news_detection.csv')\n"
   ]
  },
  {
   "cell_type": "code",
   "execution_count": 6,
   "id": "78daf641",
   "metadata": {},
   "outputs": [
    {
     "data": {
      "text/html": [
       "<div>\n",
       "<style scoped>\n",
       "    .dataframe tbody tr th:only-of-type {\n",
       "        vertical-align: middle;\n",
       "    }\n",
       "\n",
       "    .dataframe tbody tr th {\n",
       "        vertical-align: top;\n",
       "    }\n",
       "\n",
       "    .dataframe thead th {\n",
       "        text-align: right;\n",
       "    }\n",
       "</style>\n",
       "<table border=\"1\" class=\"dataframe\">\n",
       "  <thead>\n",
       "    <tr style=\"text-align: right;\">\n",
       "      <th></th>\n",
       "      <th>id</th>\n",
       "      <th>title</th>\n",
       "      <th>author</th>\n",
       "      <th>text</th>\n",
       "      <th>label</th>\n",
       "      <th>content</th>\n",
       "    </tr>\n",
       "  </thead>\n",
       "  <tbody>\n",
       "    <tr>\n",
       "      <th>0</th>\n",
       "      <td>0</td>\n",
       "      <td>House Dem Aide: We Didn’t Even See Comey’s Let...</td>\n",
       "      <td>Darrell Lucus</td>\n",
       "      <td>House Dem Aide: We Didn’t Even See Comey’s Let...</td>\n",
       "      <td>1</td>\n",
       "      <td>Darrell Lucus House Dem Aide: We Didn’t Even S...</td>\n",
       "    </tr>\n",
       "    <tr>\n",
       "      <th>1</th>\n",
       "      <td>1</td>\n",
       "      <td>FLYNN: Hillary Clinton, Big Woman on Campus - ...</td>\n",
       "      <td>Daniel J. Flynn</td>\n",
       "      <td>Ever get the feeling your life circles the rou...</td>\n",
       "      <td>0</td>\n",
       "      <td>Daniel J. Flynn FLYNN: Hillary Clinton, Big Wo...</td>\n",
       "    </tr>\n",
       "    <tr>\n",
       "      <th>2</th>\n",
       "      <td>2</td>\n",
       "      <td>Why the Truth Might Get You Fired</td>\n",
       "      <td>Consortiumnews.com</td>\n",
       "      <td>Why the Truth Might Get You Fired October 29, ...</td>\n",
       "      <td>1</td>\n",
       "      <td>Consortiumnews.com Why the Truth Might Get You...</td>\n",
       "    </tr>\n",
       "    <tr>\n",
       "      <th>3</th>\n",
       "      <td>3</td>\n",
       "      <td>15 Civilians Killed In Single US Airstrike Hav...</td>\n",
       "      <td>Jessica Purkiss</td>\n",
       "      <td>Videos 15 Civilians Killed In Single US Airstr...</td>\n",
       "      <td>1</td>\n",
       "      <td>Jessica Purkiss 15 Civilians Killed In Single ...</td>\n",
       "    </tr>\n",
       "    <tr>\n",
       "      <th>4</th>\n",
       "      <td>4</td>\n",
       "      <td>Iranian woman jailed for fictional unpublished...</td>\n",
       "      <td>Howard Portnoy</td>\n",
       "      <td>Print \\nAn Iranian woman has been sentenced to...</td>\n",
       "      <td>1</td>\n",
       "      <td>Howard Portnoy Iranian woman jailed for fictio...</td>\n",
       "    </tr>\n",
       "  </tbody>\n",
       "</table>\n",
       "</div>"
      ],
      "text/plain": [
       "   id                                              title              author  \\\n",
       "0   0  House Dem Aide: We Didn’t Even See Comey’s Let...       Darrell Lucus   \n",
       "1   1  FLYNN: Hillary Clinton, Big Woman on Campus - ...     Daniel J. Flynn   \n",
       "2   2                  Why the Truth Might Get You Fired  Consortiumnews.com   \n",
       "3   3  15 Civilians Killed In Single US Airstrike Hav...     Jessica Purkiss   \n",
       "4   4  Iranian woman jailed for fictional unpublished...      Howard Portnoy   \n",
       "\n",
       "                                                text  label  \\\n",
       "0  House Dem Aide: We Didn’t Even See Comey’s Let...      1   \n",
       "1  Ever get the feeling your life circles the rou...      0   \n",
       "2  Why the Truth Might Get You Fired October 29, ...      1   \n",
       "3  Videos 15 Civilians Killed In Single US Airstr...      1   \n",
       "4  Print \\nAn Iranian woman has been sentenced to...      1   \n",
       "\n",
       "                                             content  \n",
       "0  Darrell Lucus House Dem Aide: We Didn’t Even S...  \n",
       "1  Daniel J. Flynn FLYNN: Hillary Clinton, Big Wo...  \n",
       "2  Consortiumnews.com Why the Truth Might Get You...  \n",
       "3  Jessica Purkiss 15 Civilians Killed In Single ...  \n",
       "4  Howard Portnoy Iranian woman jailed for fictio...  "
      ]
     },
     "execution_count": 6,
     "metadata": {},
     "output_type": "execute_result"
    }
   ],
   "source": [
    "news_dataset.head()"
   ]
  },
  {
   "cell_type": "code",
   "execution_count": 3,
   "id": "2d7ec709",
   "metadata": {},
   "outputs": [],
   "source": [
    "news_dataset.dropna(inplace=True)"
   ]
  },
  {
   "cell_type": "code",
   "execution_count": 4,
   "id": "19ed7777",
   "metadata": {},
   "outputs": [
    {
     "data": {
      "text/plain": [
       "id        0\n",
       "title     0\n",
       "author    0\n",
       "text      0\n",
       "label     0\n",
       "dtype: int64"
      ]
     },
     "execution_count": 4,
     "metadata": {},
     "output_type": "execute_result"
    }
   ],
   "source": [
    "news_dataset.isnull().sum()"
   ]
  },
  {
   "cell_type": "code",
   "execution_count": 5,
   "id": "e83f497f",
   "metadata": {},
   "outputs": [],
   "source": [
    "news_dataset['content'] = news_dataset['author']+' '+news_dataset['title']\n"
   ]
  },
  {
   "cell_type": "code",
   "execution_count": 8,
   "id": "298828c1",
   "metadata": {},
   "outputs": [],
   "source": [
    "X = news_dataset.drop(columns='label', axis = 1)\n",
    "Y = news_dataset['label']"
   ]
  },
  {
   "cell_type": "code",
   "execution_count": 14,
   "id": "12ea3eb1",
   "metadata": {},
   "outputs": [],
   "source": [
    "port_stem = PorterStemmer()\n",
    "def stemming(content):\n",
    "    stemmed_content = re.sub('[^a-zA-Z]',' ', content)\n",
    "    stemmed_content = stemmed_content.lower()\n",
    "    stemmed_content =  stemmed_content.split()\n",
    "    stemmed_content = [port_stem.stem(word) for word in stemmed_content if not word in stopwords.words('english')]\n",
    "    stemmed_content = ' '.join(stemmed_content)\n",
    "    return stemmed_content"
   ]
  },
  {
   "cell_type": "code",
   "execution_count": 16,
   "id": "bb0547c3",
   "metadata": {},
   "outputs": [],
   "source": [
    "news_dataset['content'] = news_dataset['content'][1:1000].apply(stemming)"
   ]
  },
  {
   "cell_type": "code",
   "execution_count": 17,
   "id": "73075457",
   "metadata": {},
   "outputs": [],
   "source": [
    "X= news_dataset['content'][1:1000].values\n",
    "Y = news_dataset['label'][1:1000].values"
   ]
  },
  {
   "cell_type": "code",
   "execution_count": 18,
   "id": "c839ecce",
   "metadata": {},
   "outputs": [
    {
     "data": {
      "text/plain": [
       "(999,)"
      ]
     },
     "execution_count": 18,
     "metadata": {},
     "output_type": "execute_result"
    }
   ],
   "source": [
    "X.shape"
   ]
  },
  {
   "cell_type": "code",
   "execution_count": 19,
   "id": "37138969",
   "metadata": {},
   "outputs": [
    {
     "data": {
      "text/plain": [
       "(999,)"
      ]
     },
     "execution_count": 19,
     "metadata": {},
     "output_type": "execute_result"
    }
   ],
   "source": [
    "Y.shape"
   ]
  },
  {
   "cell_type": "code",
   "execution_count": 21,
   "id": "b9b3ce3e",
   "metadata": {},
   "outputs": [],
   "source": [
    "vectorizer = TfidfVectorizer()\n",
    "vectorizer.fit(X)\n",
    "X = vectorizer.transform(X)"
   ]
  },
  {
   "cell_type": "code",
   "execution_count": 23,
   "id": "fe393705",
   "metadata": {},
   "outputs": [
    {
     "name": "stdout",
     "output_type": "stream",
     "text": [
      "  (0, 3813)\t0.313187310136898\n",
      "  (0, 1594)\t0.2056024667997323\n",
      "  (0, 1297)\t0.6708491299813305\n",
      "  (0, 858)\t0.2851716822706189\n",
      "  (0, 660)\t0.2180551644431456\n",
      "  (0, 510)\t0.3956766581056075\n",
      "  (0, 443)\t0.16151014552832893\n",
      "  (0, 350)\t0.313187310136898\n",
      "  (1, 3584)\t0.4460229526885438\n",
      "  (1, 2210)\t0.46182513283259075\n",
      "  (1, 1400)\t0.3636530230043021\n",
      "  (1, 1266)\t0.3682233963412856\n",
      "  (1, 738)\t0.46182513283259075\n",
      "  (1, 691)\t0.32659857361910477\n",
      "  (2, 3652)\t0.25801380989332556\n",
      "  (2, 3173)\t0.37468502703730716\n",
      "  (2, 2742)\t0.39699645524645183\n",
      "  (2, 1883)\t0.25801380989332556\n",
      "  (2, 1800)\t0.39699645524645183\n",
      "  (2, 1662)\t0.37468502703730716\n",
      "  (2, 642)\t0.3365433885875969\n",
      "  (2, 86)\t0.39699645524645183\n",
      "  (3, 3813)\t0.48714719951921476\n",
      "  (3, 3640)\t0.3077276276408101\n",
      "  (3, 3329)\t0.2542930167746082\n",
      "  :\t:\n",
      "  (996, 54)\t0.23478247992460985\n",
      "  (997, 3693)\t0.22812757016218752\n",
      "  (997, 3681)\t0.3224923929456087\n",
      "  (997, 2936)\t0.3224923929456087\n",
      "  (997, 2706)\t0.30886728915729067\n",
      "  (997, 2444)\t0.30886728915729067\n",
      "  (997, 1681)\t0.341695898167302\n",
      "  (997, 1203)\t0.3224923929456087\n",
      "  (997, 919)\t0.2495343410787421\n",
      "  (997, 807)\t0.29829883760089565\n",
      "  (997, 643)\t0.27046027871390405\n",
      "  (997, 545)\t0.3224923929456087\n",
      "  (998, 3871)\t0.3315860590455762\n",
      "  (998, 3859)\t0.09291583975022921\n",
      "  (998, 3751)\t0.267871457003453\n",
      "  (998, 3503)\t0.09266121100919565\n",
      "  (998, 2860)\t0.3129507325740694\n",
      "  (998, 2682)\t0.3315860590455762\n",
      "  (998, 2358)\t0.09055199800994092\n",
      "  (998, 2020)\t0.3315860590455762\n",
      "  (998, 1926)\t0.3315860590455762\n",
      "  (998, 1834)\t0.3315860590455762\n",
      "  (998, 1485)\t0.3129507325740694\n",
      "  (998, 398)\t0.3315860590455762\n",
      "  (998, 129)\t0.21737882951088452\n"
     ]
    }
   ],
   "source": [
    "print(X)"
   ]
  },
  {
   "cell_type": "code",
   "execution_count": 24,
   "id": "41db0b7e",
   "metadata": {},
   "outputs": [],
   "source": [
    "X_train, X_test, Y_train, Y_test, = train_test_split(X, Y, test_size =0.3, stratify=Y, random_state=2)"
   ]
  },
  {
   "cell_type": "code",
   "execution_count": 25,
   "id": "4d45b4cb",
   "metadata": {},
   "outputs": [
    {
     "data": {
      "text/plain": [
       "LogisticRegression()"
      ]
     },
     "execution_count": 25,
     "metadata": {},
     "output_type": "execute_result"
    }
   ],
   "source": [
    "model = LogisticRegression()\n",
    "model.fit(X_train,Y_train)"
   ]
  },
  {
   "cell_type": "code",
   "execution_count": 26,
   "id": "1235b95e",
   "metadata": {},
   "outputs": [],
   "source": [
    "X_train_prediction = model.predict(X_train)\n",
    "training_data_accuracy = accuracy_score(X_train_prediction, Y_train)"
   ]
  },
  {
   "cell_type": "code",
   "execution_count": 27,
   "id": "b541c540",
   "metadata": {},
   "outputs": [
    {
     "name": "stdout",
     "output_type": "stream",
     "text": [
      "Accuracy score of the training data :  0.9985693848354793\n",
      "Accuracy score of the test data :  0.9166666666666666\n"
     ]
    }
   ],
   "source": [
    "print('Accuracy score of the training data : ', training_data_accuracy)\n",
    "X_test_prediction = model.predict(X_test)\n",
    "test_data_accuracy = accuracy_score(X_test_prediction, Y_test)\n",
    "print('Accuracy score of the test data : ', test_data_accuracy)"
   ]
  },
  {
   "cell_type": "code",
   "execution_count": 29,
   "id": "3ebc4199",
   "metadata": {},
   "outputs": [
    {
     "name": "stdout",
     "output_type": "stream",
     "text": [
      "[0]\n",
      "News is Real\n"
     ]
    }
   ],
   "source": [
    "X_new = X_test[1]\n",
    "prediction = model.predict(X_new)\n",
    "print(prediction)\n",
    "\n",
    "if (prediction[0]==0):\n",
    "    print('News is Real')\n",
    "else:\n",
    "    print('News is Fake')"
   ]
  },
  {
   "attachments": {},
   "cell_type": "markdown",
   "id": "11ad188c",
   "metadata": {},
   "source": [
    "User defined Values\n"
   ]
  },
  {
   "cell_type": "code",
   "execution_count": 46,
   "id": "b3e87297",
   "metadata": {},
   "outputs": [],
   "source": [
    "test_data = pd.read_csv('fake_news_detection_test.csv')"
   ]
  },
  {
   "cell_type": "code",
   "execution_count": 47,
   "id": "45b98843",
   "metadata": {},
   "outputs": [
    {
     "data": {
      "text/html": [
       "<div>\n",
       "<style scoped>\n",
       "    .dataframe tbody tr th:only-of-type {\n",
       "        vertical-align: middle;\n",
       "    }\n",
       "\n",
       "    .dataframe tbody tr th {\n",
       "        vertical-align: top;\n",
       "    }\n",
       "\n",
       "    .dataframe thead th {\n",
       "        text-align: right;\n",
       "    }\n",
       "</style>\n",
       "<table border=\"1\" class=\"dataframe\">\n",
       "  <thead>\n",
       "    <tr style=\"text-align: right;\">\n",
       "      <th></th>\n",
       "      <th>id</th>\n",
       "      <th>title</th>\n",
       "      <th>author</th>\n",
       "      <th>text</th>\n",
       "      <th>label</th>\n",
       "    </tr>\n",
       "  </thead>\n",
       "  <tbody>\n",
       "    <tr>\n",
       "      <th>0</th>\n",
       "      <td>0</td>\n",
       "      <td>This is a fake news. No prove has been given f...</td>\n",
       "      <td>john harry</td>\n",
       "      <td>tech</td>\n",
       "      <td>0</td>\n",
       "    </tr>\n",
       "  </tbody>\n",
       "</table>\n",
       "</div>"
      ],
      "text/plain": [
       "   id                                              title      author  text  \\\n",
       "0   0  This is a fake news. No prove has been given f...  john harry  tech   \n",
       "\n",
       "   label  \n",
       "0      0  "
      ]
     },
     "execution_count": 47,
     "metadata": {},
     "output_type": "execute_result"
    }
   ],
   "source": [
    "test_data"
   ]
  },
  {
   "cell_type": "code",
   "execution_count": 48,
   "id": "49065e34",
   "metadata": {},
   "outputs": [],
   "source": [
    "test_data['content'] = test_data['author'] + ' '+test_data['title']\n"
   ]
  },
  {
   "cell_type": "code",
   "execution_count": 49,
   "id": "8145eacf",
   "metadata": {},
   "outputs": [
    {
     "data": {
      "text/html": [
       "<div>\n",
       "<style scoped>\n",
       "    .dataframe tbody tr th:only-of-type {\n",
       "        vertical-align: middle;\n",
       "    }\n",
       "\n",
       "    .dataframe tbody tr th {\n",
       "        vertical-align: top;\n",
       "    }\n",
       "\n",
       "    .dataframe thead th {\n",
       "        text-align: right;\n",
       "    }\n",
       "</style>\n",
       "<table border=\"1\" class=\"dataframe\">\n",
       "  <thead>\n",
       "    <tr style=\"text-align: right;\">\n",
       "      <th></th>\n",
       "      <th>id</th>\n",
       "      <th>title</th>\n",
       "      <th>author</th>\n",
       "      <th>text</th>\n",
       "      <th>label</th>\n",
       "      <th>content</th>\n",
       "    </tr>\n",
       "  </thead>\n",
       "  <tbody>\n",
       "    <tr>\n",
       "      <th>0</th>\n",
       "      <td>0</td>\n",
       "      <td>This is a fake news. No prove has been given f...</td>\n",
       "      <td>john harry</td>\n",
       "      <td>tech</td>\n",
       "      <td>0</td>\n",
       "      <td>john harry This is a fake news. No prove has b...</td>\n",
       "    </tr>\n",
       "  </tbody>\n",
       "</table>\n",
       "</div>"
      ],
      "text/plain": [
       "   id                                              title      author  text  \\\n",
       "0   0  This is a fake news. No prove has been given f...  john harry  tech   \n",
       "\n",
       "   label                                            content  \n",
       "0      0  john harry This is a fake news. No prove has b...  "
      ]
     },
     "execution_count": 49,
     "metadata": {},
     "output_type": "execute_result"
    }
   ],
   "source": [
    "test_data"
   ]
  },
  {
   "cell_type": "code",
   "execution_count": 50,
   "id": "12a212c6",
   "metadata": {},
   "outputs": [],
   "source": [
    "X_test_data = test_data.drop(columns='label',axis= 1)\n",
    "y_test_data = test_data['label']"
   ]
  },
  {
   "cell_type": "code",
   "execution_count": 51,
   "metadata": {},
   "outputs": [
    {
     "name": "stdout",
     "output_type": "stream",
     "text": [
      "   id                                              title      author  text  \\\n",
      "0   0  This is a fake news. No prove has been given f...  john harry  tech   \n",
      "\n",
      "                                             content  \n",
      "0  john harry This is a fake news. No prove has b...  \n",
      "0    0\n",
      "Name: label, dtype: int64\n"
     ]
    }
   ],
   "source": [
    "print(X_test_data)\n",
    "print(y_test_data)"
   ]
  },
  {
   "cell_type": "code",
   "execution_count": 52,
   "id": "c79ced55",
   "metadata": {},
   "outputs": [],
   "source": [
    "test_data['content'] = test_data['content'].apply(stemming)"
   ]
  },
  {
   "cell_type": "code",
   "execution_count": 53,
   "id": "48dd1fb8",
   "metadata": {},
   "outputs": [
    {
     "data": {
      "text/plain": [
       "0    john harri fake news prove given prove\n",
       "Name: content, dtype: object"
      ]
     },
     "execution_count": 53,
     "metadata": {},
     "output_type": "execute_result"
    }
   ],
   "source": [
    "test_data['content']"
   ]
  },
  {
   "cell_type": "code",
   "execution_count": 54,
   "id": "acf0f53a",
   "metadata": {},
   "outputs": [],
   "source": [
    "X_test_data = test_data['content'].values\n",
    "Y_test_data = test_data['label'].values"
   ]
  },
  {
   "cell_type": "code",
   "execution_count": 70,
   "id": "48b5f3d4",
   "metadata": {},
   "outputs": [
    {
     "data": {
      "text/plain": [
       "numpy.ndarray"
      ]
     },
     "execution_count": 70,
     "metadata": {},
     "output_type": "execute_result"
    }
   ],
   "source": [
    "type(X_test_data)"
   ]
  },
  {
   "cell_type": "code",
   "execution_count": 55,
   "id": "0e151d44",
   "metadata": {},
   "outputs": [],
   "source": [
    "X_vect = vectorizer.transform(X_test_data)"
   ]
  },
  {
   "cell_type": "code",
   "execution_count": 56,
   "id": "8d292337",
   "metadata": {},
   "outputs": [
    {
     "data": {
      "text/plain": [
       "<1x3877 sparse matrix of type '<class 'numpy.float64'>'\n",
       "\twith 5 stored elements in Compressed Sparse Row format>"
      ]
     },
     "execution_count": 56,
     "metadata": {},
     "output_type": "execute_result"
    }
   ],
   "source": [
    "X_vect"
   ]
  },
  {
   "cell_type": "code",
   "execution_count": 57,
   "id": "aed0d5e3",
   "metadata": {},
   "outputs": [
    {
     "name": "stdout",
     "output_type": "stream",
     "text": [
      "[1]\n",
      "News is Fake\n"
     ]
    }
   ],
   "source": [
    "X_new = X_vect[0]\n",
    "prediction = model.predict(X_new)\n",
    "print(prediction)\n",
    "\n",
    "if (prediction[0]==0):\n",
    "    print('News is Real')\n",
    "else:\n",
    "    print('News is Fake')"
   ]
  },
  {
   "attachments": {},
   "cell_type": "markdown",
   "id": "9c309bc7",
   "metadata": {},
   "source": [
    "Direct user Entry"
   ]
  },
  {
   "cell_type": "code",
   "execution_count": 91,
   "id": "bff6c484",
   "metadata": {},
   "outputs": [
    {
     "name": "stdout",
     "output_type": "stream",
     "text": [
      "Israel is Becoming Pivotal to Chinaâ€™s Mid-Eastern Calculus http://journal-neo.org/2016/11/07/israel-is-becoming-pivotal-to-china-s-mid-eastern-calculus/\n",
      "[1]\n",
      "News is Fake\n"
     ]
    }
   ],
   "source": [
    "user_input = input(\"Enter News\")\n",
    "print(user_input)\n",
    "news = []\n",
    "news.append(user_input)\n",
    "type(news)\n",
    "news = stemming(news[0])\n",
    "news = np.array([news])\n",
    "\n",
    "news_vect = vectorizer.transform(news)\n",
    "X_new = news_vect[0]\n",
    "prediction = model.predict(X_new)\n",
    "print(prediction)\n",
    "\n",
    "if (prediction[0]==0):\n",
    "    print('News is Real')\n",
    "else:\n",
    "    print('News is Fake')"
   ]
  }
 ],
 "metadata": {
  "kernelspec": {
   "display_name": "Python 3",
   "language": "python",
   "name": "python3"
  },
  "language_info": {
   "codemirror_mode": {
    "name": "ipython",
    "version": 3
   },
   "file_extension": ".py",
   "mimetype": "text/x-python",
   "name": "python",
   "nbconvert_exporter": "python",
   "pygments_lexer": "ipython3",
   "version": "3.9.7"
  },
  "vscode": {
   "interpreter": {
    "hash": "d0537c299249f6956b14196eacdaae352ef7e8d82d8c01dc2747f4b2fe64f936"
   }
  }
 },
 "nbformat": 4,
 "nbformat_minor": 5
}
